{
  "nbformat": 4,
  "nbformat_minor": 0,
  "metadata": {
    "colab": {
      "provenance": []
    },
    "kernelspec": {
      "name": "python3",
      "display_name": "Python 3"
    },
    "language_info": {
      "name": "python"
    }
  },
  "cells": [
    {
      "cell_type": "code",
      "execution_count": null,
      "metadata": {
        "colab": {
          "base_uri": "https://localhost:8080/"
        },
        "id": "qoUVtHAlF8VL",
        "outputId": "46b5b057-f2b8-42a9-8a9b-5f904f9e5f33"
      },
      "outputs": [
        {
          "output_type": "stream",
          "name": "stdout",
          "text": [
            "Collecting pytube\n",
            "  Downloading pytube-15.0.0-py3-none-any.whl (57 kB)\n",
            "\u001b[?25l     \u001b[90m━━━━━━━━━━━━━━━━━━━━━━━━━━━━━━━━━━━━━━━━\u001b[0m \u001b[32m0.0/57.6 kB\u001b[0m \u001b[31m?\u001b[0m eta \u001b[36m-:--:--\u001b[0m\r\u001b[2K     \u001b[90m━━━━━━━━━━━━━━━━━━━━━━━━━━━━━━━━━━━━━━━━\u001b[0m \u001b[32m57.6/57.6 kB\u001b[0m \u001b[31m1.4 MB/s\u001b[0m eta \u001b[36m0:00:00\u001b[0m\n",
            "\u001b[?25hInstalling collected packages: pytube\n",
            "Successfully installed pytube-15.0.0\n"
          ]
        }
      ],
      "source": [
        "!pip install pytube"
      ]
    },
    {
      "cell_type": "code",
      "source": [
        "!pip install mediapipe"
      ],
      "metadata": {
        "colab": {
          "base_uri": "https://localhost:8080/"
        },
        "id": "jVKcm6Q0ydfv",
        "outputId": "7b29d15e-f3e0-4fc2-cc7d-7071d6e669db"
      },
      "execution_count": null,
      "outputs": [
        {
          "output_type": "stream",
          "name": "stdout",
          "text": [
            "Collecting mediapipe\n",
            "  Downloading mediapipe-0.10.10-cp310-cp310-manylinux_2_17_x86_64.manylinux2014_x86_64.whl (34.8 MB)\n",
            "\u001b[2K     \u001b[90m━━━━━━━━━━━━━━━━━━━━━━━━━━━━━━━━━━━━━━━━\u001b[0m \u001b[32m34.8/34.8 MB\u001b[0m \u001b[31m14.2 MB/s\u001b[0m eta \u001b[36m0:00:00\u001b[0m\n",
            "\u001b[?25hRequirement already satisfied: absl-py in /usr/local/lib/python3.10/dist-packages (from mediapipe) (1.4.0)\n",
            "Requirement already satisfied: attrs>=19.1.0 in /usr/local/lib/python3.10/dist-packages (from mediapipe) (23.2.0)\n",
            "Requirement already satisfied: flatbuffers>=2.0 in /usr/local/lib/python3.10/dist-packages (from mediapipe) (23.5.26)\n",
            "Requirement already satisfied: jax in /usr/local/lib/python3.10/dist-packages (from mediapipe) (0.4.23)\n",
            "Requirement already satisfied: matplotlib in /usr/local/lib/python3.10/dist-packages (from mediapipe) (3.7.1)\n",
            "Requirement already satisfied: numpy in /usr/local/lib/python3.10/dist-packages (from mediapipe) (1.25.2)\n",
            "Requirement already satisfied: opencv-contrib-python in /usr/local/lib/python3.10/dist-packages (from mediapipe) (4.8.0.76)\n",
            "Requirement already satisfied: protobuf<4,>=3.11 in /usr/local/lib/python3.10/dist-packages (from mediapipe) (3.20.3)\n",
            "Collecting sounddevice>=0.4.4 (from mediapipe)\n",
            "  Downloading sounddevice-0.4.6-py3-none-any.whl (31 kB)\n",
            "Requirement already satisfied: CFFI>=1.0 in /usr/local/lib/python3.10/dist-packages (from sounddevice>=0.4.4->mediapipe) (1.16.0)\n",
            "Requirement already satisfied: ml-dtypes>=0.2.0 in /usr/local/lib/python3.10/dist-packages (from jax->mediapipe) (0.2.0)\n",
            "Requirement already satisfied: opt-einsum in /usr/local/lib/python3.10/dist-packages (from jax->mediapipe) (3.3.0)\n",
            "Requirement already satisfied: scipy>=1.9 in /usr/local/lib/python3.10/dist-packages (from jax->mediapipe) (1.11.4)\n",
            "Requirement already satisfied: contourpy>=1.0.1 in /usr/local/lib/python3.10/dist-packages (from matplotlib->mediapipe) (1.2.0)\n",
            "Requirement already satisfied: cycler>=0.10 in /usr/local/lib/python3.10/dist-packages (from matplotlib->mediapipe) (0.12.1)\n",
            "Requirement already satisfied: fonttools>=4.22.0 in /usr/local/lib/python3.10/dist-packages (from matplotlib->mediapipe) (4.49.0)\n",
            "Requirement already satisfied: kiwisolver>=1.0.1 in /usr/local/lib/python3.10/dist-packages (from matplotlib->mediapipe) (1.4.5)\n",
            "Requirement already satisfied: packaging>=20.0 in /usr/local/lib/python3.10/dist-packages (from matplotlib->mediapipe) (23.2)\n",
            "Requirement already satisfied: pillow>=6.2.0 in /usr/local/lib/python3.10/dist-packages (from matplotlib->mediapipe) (9.4.0)\n",
            "Requirement already satisfied: pyparsing>=2.3.1 in /usr/local/lib/python3.10/dist-packages (from matplotlib->mediapipe) (3.1.1)\n",
            "Requirement already satisfied: python-dateutil>=2.7 in /usr/local/lib/python3.10/dist-packages (from matplotlib->mediapipe) (2.8.2)\n",
            "Requirement already satisfied: pycparser in /usr/local/lib/python3.10/dist-packages (from CFFI>=1.0->sounddevice>=0.4.4->mediapipe) (2.21)\n",
            "Requirement already satisfied: six>=1.5 in /usr/local/lib/python3.10/dist-packages (from python-dateutil>=2.7->matplotlib->mediapipe) (1.16.0)\n",
            "Installing collected packages: sounddevice, mediapipe\n",
            "Successfully installed mediapipe-0.10.10 sounddevice-0.4.6\n"
          ]
        }
      ]
    },
    {
      "cell_type": "code",
      "source": [
        "!pip install torch"
      ],
      "metadata": {
        "colab": {
          "base_uri": "https://localhost:8080/"
        },
        "id": "kuxgM0AjNNt9",
        "outputId": "c5ec90a2-00e3-464a-8fdc-db5911410a69"
      },
      "execution_count": null,
      "outputs": [
        {
          "output_type": "stream",
          "name": "stdout",
          "text": [
            "Requirement already satisfied: torch in /usr/local/lib/python3.10/dist-packages (2.1.0+cu121)\n",
            "Requirement already satisfied: filelock in /usr/local/lib/python3.10/dist-packages (from torch) (3.13.1)\n",
            "Requirement already satisfied: typing-extensions in /usr/local/lib/python3.10/dist-packages (from torch) (4.9.0)\n",
            "Requirement already satisfied: sympy in /usr/local/lib/python3.10/dist-packages (from torch) (1.12)\n",
            "Requirement already satisfied: networkx in /usr/local/lib/python3.10/dist-packages (from torch) (3.2.1)\n",
            "Requirement already satisfied: jinja2 in /usr/local/lib/python3.10/dist-packages (from torch) (3.1.3)\n",
            "Requirement already satisfied: fsspec in /usr/local/lib/python3.10/dist-packages (from torch) (2023.6.0)\n",
            "Requirement already satisfied: triton==2.1.0 in /usr/local/lib/python3.10/dist-packages (from torch) (2.1.0)\n",
            "Requirement already satisfied: MarkupSafe>=2.0 in /usr/local/lib/python3.10/dist-packages (from jinja2->torch) (2.1.5)\n",
            "Requirement already satisfied: mpmath>=0.19 in /usr/local/lib/python3.10/dist-packages (from sympy->torch) (1.3.0)\n"
          ]
        }
      ]
    },
    {
      "cell_type": "code",
      "source": [
        "!pip install os"
      ],
      "metadata": {
        "colab": {
          "base_uri": "https://localhost:8080/"
        },
        "id": "E5Fz3AoCn2sy",
        "outputId": "f62b42bb-d415-4348-e46b-9dc8cb455de2"
      },
      "execution_count": null,
      "outputs": [
        {
          "output_type": "stream",
          "name": "stdout",
          "text": [
            "\u001b[31mERROR: Could not find a version that satisfies the requirement os (from versions: none)\u001b[0m\u001b[31m\n",
            "\u001b[0m\u001b[31mERROR: No matching distribution found for os\u001b[0m\u001b[31m\n",
            "\u001b[0m"
          ]
        }
      ]
    },
    {
      "cell_type": "code",
      "source": [
        "!pip install tensorflow"
      ],
      "metadata": {
        "colab": {
          "base_uri": "https://localhost:8080/"
        },
        "id": "9aI4s1oesXZM",
        "outputId": "528d7b75-536b-4690-f214-af5bca0d6568"
      },
      "execution_count": null,
      "outputs": [
        {
          "output_type": "stream",
          "name": "stdout",
          "text": [
            "Requirement already satisfied: tensorflow in /usr/local/lib/python3.10/dist-packages (2.15.0)\n",
            "Requirement already satisfied: absl-py>=1.0.0 in /usr/local/lib/python3.10/dist-packages (from tensorflow) (1.4.0)\n",
            "Requirement already satisfied: astunparse>=1.6.0 in /usr/local/lib/python3.10/dist-packages (from tensorflow) (1.6.3)\n",
            "Requirement already satisfied: flatbuffers>=23.5.26 in /usr/local/lib/python3.10/dist-packages (from tensorflow) (23.5.26)\n",
            "Requirement already satisfied: gast!=0.5.0,!=0.5.1,!=0.5.2,>=0.2.1 in /usr/local/lib/python3.10/dist-packages (from tensorflow) (0.5.4)\n",
            "Requirement already satisfied: google-pasta>=0.1.1 in /usr/local/lib/python3.10/dist-packages (from tensorflow) (0.2.0)\n",
            "Requirement already satisfied: h5py>=2.9.0 in /usr/local/lib/python3.10/dist-packages (from tensorflow) (3.9.0)\n",
            "Requirement already satisfied: libclang>=13.0.0 in /usr/local/lib/python3.10/dist-packages (from tensorflow) (16.0.6)\n",
            "Requirement already satisfied: ml-dtypes~=0.2.0 in /usr/local/lib/python3.10/dist-packages (from tensorflow) (0.2.0)\n",
            "Requirement already satisfied: numpy<2.0.0,>=1.23.5 in /usr/local/lib/python3.10/dist-packages (from tensorflow) (1.25.2)\n",
            "Requirement already satisfied: opt-einsum>=2.3.2 in /usr/local/lib/python3.10/dist-packages (from tensorflow) (3.3.0)\n",
            "Requirement already satisfied: packaging in /usr/local/lib/python3.10/dist-packages (from tensorflow) (23.2)\n",
            "Requirement already satisfied: protobuf!=4.21.0,!=4.21.1,!=4.21.2,!=4.21.3,!=4.21.4,!=4.21.5,<5.0.0dev,>=3.20.3 in /usr/local/lib/python3.10/dist-packages (from tensorflow) (3.20.3)\n",
            "Requirement already satisfied: setuptools in /usr/local/lib/python3.10/dist-packages (from tensorflow) (67.7.2)\n",
            "Requirement already satisfied: six>=1.12.0 in /usr/local/lib/python3.10/dist-packages (from tensorflow) (1.16.0)\n",
            "Requirement already satisfied: termcolor>=1.1.0 in /usr/local/lib/python3.10/dist-packages (from tensorflow) (2.4.0)\n",
            "Requirement already satisfied: typing-extensions>=3.6.6 in /usr/local/lib/python3.10/dist-packages (from tensorflow) (4.9.0)\n",
            "Requirement already satisfied: wrapt<1.15,>=1.11.0 in /usr/local/lib/python3.10/dist-packages (from tensorflow) (1.14.1)\n",
            "Requirement already satisfied: tensorflow-io-gcs-filesystem>=0.23.1 in /usr/local/lib/python3.10/dist-packages (from tensorflow) (0.36.0)\n",
            "Requirement already satisfied: grpcio<2.0,>=1.24.3 in /usr/local/lib/python3.10/dist-packages (from tensorflow) (1.60.1)\n",
            "Requirement already satisfied: tensorboard<2.16,>=2.15 in /usr/local/lib/python3.10/dist-packages (from tensorflow) (2.15.2)\n",
            "Requirement already satisfied: tensorflow-estimator<2.16,>=2.15.0 in /usr/local/lib/python3.10/dist-packages (from tensorflow) (2.15.0)\n",
            "Requirement already satisfied: keras<2.16,>=2.15.0 in /usr/local/lib/python3.10/dist-packages (from tensorflow) (2.15.0)\n",
            "Requirement already satisfied: wheel<1.0,>=0.23.0 in /usr/local/lib/python3.10/dist-packages (from astunparse>=1.6.0->tensorflow) (0.42.0)\n",
            "Requirement already satisfied: google-auth<3,>=1.6.3 in /usr/local/lib/python3.10/dist-packages (from tensorboard<2.16,>=2.15->tensorflow) (2.27.0)\n",
            "Requirement already satisfied: google-auth-oauthlib<2,>=0.5 in /usr/local/lib/python3.10/dist-packages (from tensorboard<2.16,>=2.15->tensorflow) (1.2.0)\n",
            "Requirement already satisfied: markdown>=2.6.8 in /usr/local/lib/python3.10/dist-packages (from tensorboard<2.16,>=2.15->tensorflow) (3.5.2)\n",
            "Requirement already satisfied: requests<3,>=2.21.0 in /usr/local/lib/python3.10/dist-packages (from tensorboard<2.16,>=2.15->tensorflow) (2.31.0)\n",
            "Requirement already satisfied: tensorboard-data-server<0.8.0,>=0.7.0 in /usr/local/lib/python3.10/dist-packages (from tensorboard<2.16,>=2.15->tensorflow) (0.7.2)\n",
            "Requirement already satisfied: werkzeug>=1.0.1 in /usr/local/lib/python3.10/dist-packages (from tensorboard<2.16,>=2.15->tensorflow) (3.0.1)\n",
            "Requirement already satisfied: cachetools<6.0,>=2.0.0 in /usr/local/lib/python3.10/dist-packages (from google-auth<3,>=1.6.3->tensorboard<2.16,>=2.15->tensorflow) (5.3.2)\n",
            "Requirement already satisfied: pyasn1-modules>=0.2.1 in /usr/local/lib/python3.10/dist-packages (from google-auth<3,>=1.6.3->tensorboard<2.16,>=2.15->tensorflow) (0.3.0)\n",
            "Requirement already satisfied: rsa<5,>=3.1.4 in /usr/local/lib/python3.10/dist-packages (from google-auth<3,>=1.6.3->tensorboard<2.16,>=2.15->tensorflow) (4.9)\n",
            "Requirement already satisfied: requests-oauthlib>=0.7.0 in /usr/local/lib/python3.10/dist-packages (from google-auth-oauthlib<2,>=0.5->tensorboard<2.16,>=2.15->tensorflow) (1.3.1)\n",
            "Requirement already satisfied: charset-normalizer<4,>=2 in /usr/local/lib/python3.10/dist-packages (from requests<3,>=2.21.0->tensorboard<2.16,>=2.15->tensorflow) (3.3.2)\n",
            "Requirement already satisfied: idna<4,>=2.5 in /usr/local/lib/python3.10/dist-packages (from requests<3,>=2.21.0->tensorboard<2.16,>=2.15->tensorflow) (3.6)\n",
            "Requirement already satisfied: urllib3<3,>=1.21.1 in /usr/local/lib/python3.10/dist-packages (from requests<3,>=2.21.0->tensorboard<2.16,>=2.15->tensorflow) (2.0.7)\n",
            "Requirement already satisfied: certifi>=2017.4.17 in /usr/local/lib/python3.10/dist-packages (from requests<3,>=2.21.0->tensorboard<2.16,>=2.15->tensorflow) (2024.2.2)\n",
            "Requirement already satisfied: MarkupSafe>=2.1.1 in /usr/local/lib/python3.10/dist-packages (from werkzeug>=1.0.1->tensorboard<2.16,>=2.15->tensorflow) (2.1.5)\n",
            "Requirement already satisfied: pyasn1<0.6.0,>=0.4.6 in /usr/local/lib/python3.10/dist-packages (from pyasn1-modules>=0.2.1->google-auth<3,>=1.6.3->tensorboard<2.16,>=2.15->tensorflow) (0.5.1)\n",
            "Requirement already satisfied: oauthlib>=3.0.0 in /usr/local/lib/python3.10/dist-packages (from requests-oauthlib>=0.7.0->google-auth-oauthlib<2,>=0.5->tensorboard<2.16,>=2.15->tensorflow) (3.2.2)\n"
          ]
        }
      ]
    },
    {
      "cell_type": "code",
      "source": [
        "import cv2\n",
        "import mediapipe as mp\n",
        "import numpy as np"
      ],
      "metadata": {
        "id": "VdUOQUAEzTWI"
      },
      "execution_count": null,
      "outputs": []
    },
    {
      "cell_type": "code",
      "source": [
        "mp_drawing = mp.solutions.drawing_utils\n",
        "mp_drawing1 = mp.solutions.drawing_utils\n",
        "mp_drawing_styles = mp.solutions.drawing_styles\n",
        "mp_pose = mp.solutions.pose\n",
        "\n",
        "IMAGE_FILES = [\" 1-0.jpeg\"]\n",
        "BG_COLOR = (192, 192, 192) # gray\n",
        "with mp_pose.Pose(\n",
        "    static_image_mode=True,\n",
        "    model_complexity=2,\n",
        "    enable_segmentation=True,\n",
        "    min_detection_confidence=0.5) as pose:\n",
        "  for idx, file in enumerate(IMAGE_FILES):\n",
        "    image = cv2.imread(file)\n",
        "    cv2.imwrite(\"Cropped Image.jpeg\", image)\n",
        "    image_height, image_width, _ = image.shape\n",
        "    print(image_height, image_width)\n",
        "    # Convert the BGR image to RGB before processing.\n",
        "    results = pose.process(cv2.cvtColor(image, cv2.COLOR_BGR2RGB))\n",
        "\n",
        "    if not results.pose_landmarks:\n",
        "      continue\n",
        "    print(\n",
        "        f'Nose coordinates: ('\n",
        "        f'{results.pose_landmarks.landmark[mp_pose.PoseLandmark.RIGHT_SHOULDER].x * image_width}, '\n",
        "        f'{results.pose_landmarks.landmark[mp_pose.PoseLandmark.RIGHT_SHOULDER].y * image_height})'\n",
        "    )\n",
        "    annotated_image = image.copy()\n",
        "    # Draw segmentation on the image.\n",
        "    # To improve segmentation around boundaries, consider applying a joint\n",
        "    # bilateral filter to \"results.segmentation_mask\" with \"image\".\n",
        "    condition = np.stack((results.segmentation_mask,) * 3, axis=-1) > 0.1\n",
        "    bg_image = np.zeros(image.shape, dtype=np.uint8)\n",
        "    bg_image[:] = BG_COLOR\n",
        "    annotated_image = np.where(condition, annotated_image, bg_image)\n",
        "    # Draw pose landmarks on the image.\n",
        "    mp_drawing.draw_landmarks(\n",
        "        annotated_image,\n",
        "        results.pose_landmarks,\n",
        "        mp_pose.POSE_CONNECTIONS,\n",
        "        landmark_drawing_spec=mp_drawing_styles.get_default_pose_landmarks_style())\n",
        "    cv2.imwrite('annotate.jpeg', annotated_image)\n",
        "    # Plot pose world landmarks.\n",
        "    mp_drawing.plot_landmarks(\n",
        "        results.pose_world_landmarks, mp_pose.POSE_CONNECTIONS)"
      ],
      "metadata": {
        "colab": {
          "base_uri": "https://localhost:8080/",
          "height": 681
        },
        "id": "R-ghDVxFGsIq",
        "outputId": "a6478b6d-31c5-475f-e60b-6f9c722684f2"
      },
      "execution_count": null,
      "outputs": [
        {
          "output_type": "stream",
          "name": "stdout",
          "text": [
            "1080 1920\n",
            "Nose coordinates: (874.6064186096191, 509.9377369880676)\n"
          ]
        },
        {
          "output_type": "display_data",
          "data": {
            "text/plain": [
              "<Figure size 1000x1000 with 1 Axes>"
            ],
            "image/png": "[encoded data removed]"
          },
          "metadata": {}
        }
      ]
    },
    {
      "cell_type": "code",
      "source": [
        "from google.colab import drive\n",
        "drive.mount('/content/drive')"
      ],
      "metadata": {
        "colab": {
          "base_uri": "https://localhost:8080/"
        },
        "id": "6KPnkudvWYoq",
        "outputId": "97cc4ddf-97fa-41e8-f919-338443b15516"
      },
      "execution_count": null,
      "outputs": [
        {
          "output_type": "stream",
          "name": "stdout",
          "text": [
            "Drive already mounted at /content/drive; to attempt to forcibly remount, call drive.mount(\"/content/drive\", force_remount=True).\n"
          ]
        }
      ]
    },
    {
      "cell_type": "code",
      "source": [
        "pose_estimation_cords = np.zeros((25, 23, 16, 3))"
      ],
      "metadata": {
        "id": "cZb1_HWBUYIm"
      },
      "execution_count": null,
      "outputs": []
    },
    {
      "cell_type": "code",
      "source": [
        "!ls"
      ],
      "metadata": {
        "colab": {
          "base_uri": "https://localhost:8080/"
        },
        "id": "UNkQ1B6divDz",
        "outputId": "ab316407-d48a-4c0e-8dd6-c8571acf411c"
      },
      "execution_count": null,
      "outputs": [
        {
          "output_type": "stream",
          "name": "stdout",
          "text": [
            "' 1-0.jpeg'   ' 1-13.jpeg'  ' 1-17.jpeg'  ' 1-20.jpeg'\t' 1-4.jpeg'  ' 1-8.jpeg'\n",
            "' 1-10.jpeg'  ' 1-14.jpeg'  ' 1-18.jpeg'  ' 1-21.jpeg'\t' 1-5.jpeg'  ' 1-9.jpeg'\n",
            "' 1-11.jpeg'  ' 1-15.jpeg'  ' 1-19.jpeg'  ' 1-2.jpeg'\t' 1-6.jpeg'   drive\n",
            "' 1-12.jpeg'  ' 1-16.jpeg'  ' 1-1.jpeg'   ' 1-3.jpeg'\t' 1-7.jpeg'   sample_data\n"
          ]
        }
      ]
    },
    {
      "cell_type": "code",
      "source": [
        "import os\n",
        "import os.path\n",
        "\n",
        "mp_drawing = mp.solutions.drawing_utils\n",
        "mp_drawing1 = mp.solutions.drawing_utils\n",
        "mp_drawing_styles = mp.solutions.drawing_styles\n",
        "mp_pose = mp.solutions.pose\n",
        "\n",
        "for num in range(1, 26):\n",
        "  for num2 in range(23):\n",
        "    IMAGE_FILES = [\"drive/MyDrive/BadmintonData/Swing\" + str(num) + \"/ \" + str(num) + \"-\" + str(num2) + \".jpeg\"]\n",
        "    if not os.path.isfile(IMAGE_FILES[0]):\n",
        "        continue\n",
        "    BG_COLOR = (192, 192, 192) # gray\n",
        "    with mp_pose.Pose(\n",
        "        static_image_mode=True,\n",
        "        model_complexity=2,\n",
        "        enable_segmentation=True,\n",
        "        min_detection_confidence=0.5) as pose:\n",
        "      for idx, file in enumerate(IMAGE_FILES):\n",
        "        image = cv2.imread(file)\n",
        "        cv2.imwrite(\"Cropped Image.jpeg\", image)\n",
        "        image_height, image_width, _ = image.shape\n",
        "        print(image_height, image_width)\n",
        "        # Convert the BGR image to RGB before processing.\n",
        "        results = pose.process(cv2.cvtColor(image, cv2.COLOR_BGR2RGB))\n",
        "\n",
        "        if not results.pose_landmarks:\n",
        "          continue\n",
        "        #pose_estimation_cords\n",
        "        landmarks = results.pose_landmarks.landmark\n",
        "        useful_landmarks = landmarks[11:17] + landmarks[23:]\n",
        "        for k in range(16):\n",
        "          pose_estimation_cords[num-1][num2][k][0] = useful_landmarks[k].x * image_width\n",
        "          pose_estimation_cords[num-1][num2][k][1] = useful_landmarks[k].y * image_height\n",
        "          pose_estimation_cords[num-1][num2][k][2] = useful_landmarks[k].z\n",
        "\n",
        "        #results.pose_landmarks.landmark[mp_pose.PoseLandmark.RIGHT_SHOULDER].x * image_width\n",
        "        #results.pose_landmarks.landmark[mp_pose.PoseLandmark.RIGHT_SHOULDER].y * image_height"
      ],
      "metadata": {
        "colab": {
          "base_uri": "https://localhost:8080/"
        },
        "id": "r21ZoPBKT49E",
        "outputId": "4a0004e6-ecb5-40de-bbdc-4d3e7c5dc9d7"
      },
      "execution_count": null,
      "outputs": [
        {
          "output_type": "stream",
          "name": "stdout",
          "text": [
            "1080 1920\n",
            "1080 1920\n",
            "1080 1920\n",
            "1080 1920\n",
            "1080 1920\n",
            "1080 1920\n",
            "1080 1920\n",
            "1080 1920\n",
            "1080 1920\n",
            "1080 1920\n",
            "1080 1920\n",
            "1080 1920\n",
            "1080 1920\n",
            "1080 1920\n",
            "1080 1920\n",
            "1080 1920\n",
            "1080 1920\n",
            "1080 1920\n",
            "1080 1920\n",
            "1080 1920\n",
            "1080 1920\n",
            "1080 1920\n"
          ]
        }
      ]
    },
    {
      "cell_type": "code",
      "source": [
        "pose_estimation_cords"
      ],
      "metadata": {
        "colab": {
          "base_uri": "https://localhost:8080/"
        },
        "id": "drB_qPDAqEk3",
        "outputId": "8f56e6bd-0bbb-4b39-bc37-626f726e38c9"
      },
      "execution_count": null,
      "outputs": [
        {
          "output_type": "execute_result",
          "data": {
            "text/plain": [
              "array([[[[ 9.95625229e+02,  5.23026670e+02, -4.06132489e-02],\n",
              "         [ 8.74606419e+02,  5.09937737e+02, -4.61559780e-02],\n",
              "         [ 1.07376240e+03,  5.67199402e+02, -1.34804457e-01],\n",
              "         ...,\n",
              "         [ 8.09147301e+02,  9.23938823e+02,  1.67560101e-01],\n",
              "         [ 1.07262371e+03,  9.31927385e+02,  2.53730398e-02],\n",
              "         [ 7.82905598e+02,  9.35819764e+02,  7.88811967e-02]],\n",
              "\n",
              "        [[ 1.06702217e+03,  4.35671039e+02, -4.98467917e-03],\n",
              "         [ 9.58300381e+02,  4.37480178e+02,  2.65749032e-03],\n",
              "         [ 1.15584583e+03,  4.14541047e+02, -4.85154018e-02],\n",
              "         ...,\n",
              "         [ 9.09097939e+02,  8.98498864e+02,  8.68312567e-02],\n",
              "         [ 1.13354839e+03,  9.16547127e+02,  1.66666701e-01],\n",
              "         [ 8.87412701e+02,  9.47567453e+02, -1.76048409e-02]],\n",
              "\n",
              "        [[ 1.10255161e+03,  3.91493994e+02,  1.21208303e-01],\n",
              "         [ 9.97764130e+02,  4.10237517e+02,  1.12818912e-01],\n",
              "         [ 1.18318657e+03,  3.43596028e+02,  9.23539847e-02],\n",
              "         ...,\n",
              "         [ 9.40268955e+02,  8.47565260e+02, -2.54744454e-03],\n",
              "         [ 1.08146427e+03,  8.55984221e+02,  7.54883066e-02],\n",
              "         [ 9.38784313e+02,  8.80025225e+02, -9.45767164e-02]],\n",
              "\n",
              "        ...,\n",
              "\n",
              "        [[ 9.23731213e+02,  4.87625148e+02,  1.10985592e-01],\n",
              "         [ 8.96679382e+02,  4.33793246e+02, -1.16751984e-01],\n",
              "         [ 9.03260994e+02,  5.61489644e+02,  1.08729675e-01],\n",
              "         ...,\n",
              "         [ 6.83013039e+02,  8.93765774e+02, -1.27414301e-01],\n",
              "         [ 8.05631046e+02,  9.48593173e+02, -4.20391113e-02],\n",
              "         [ 7.17343369e+02,  9.45313239e+02, -2.10308209e-01]],\n",
              "\n",
              "        [[ 8.43574448e+02,  4.73383616e+02,  1.23525791e-01],\n",
              "         [ 8.30855427e+02,  4.44979377e+02, -1.39782533e-01],\n",
              "         [ 7.98791313e+02,  5.53587213e+02,  9.92600620e-02],\n",
              "         ...,\n",
              "         [ 5.84034920e+02,  9.31705298e+02, -2.04967454e-01],\n",
              "         [ 6.37267056e+02,  9.67047114e+02, -1.17452703e-01],\n",
              "         [ 6.36763573e+02,  9.76352363e+02, -2.77817458e-01]],\n",
              "\n",
              "        [[ 0.00000000e+00,  0.00000000e+00,  0.00000000e+00],\n",
              "         [ 0.00000000e+00,  0.00000000e+00,  0.00000000e+00],\n",
              "         [ 0.00000000e+00,  0.00000000e+00,  0.00000000e+00],\n",
              "         ...,\n",
              "         [ 0.00000000e+00,  0.00000000e+00,  0.00000000e+00],\n",
              "         [ 0.00000000e+00,  0.00000000e+00,  0.00000000e+00],\n",
              "         [ 0.00000000e+00,  0.00000000e+00,  0.00000000e+00]]],\n",
              "\n",
              "\n",
              "       [[[ 0.00000000e+00,  0.00000000e+00,  0.00000000e+00],\n",
              "         [ 0.00000000e+00,  0.00000000e+00,  0.00000000e+00],\n",
              "         [ 0.00000000e+00,  0.00000000e+00,  0.00000000e+00],\n",
              "         ...,\n",
              "         [ 0.00000000e+00,  0.00000000e+00,  0.00000000e+00],\n",
              "         [ 0.00000000e+00,  0.00000000e+00,  0.00000000e+00],\n",
              "         [ 0.00000000e+00,  0.00000000e+00,  0.00000000e+00]],\n",
              "\n",
              "        [[ 0.00000000e+00,  0.00000000e+00,  0.00000000e+00],\n",
              "         [ 0.00000000e+00,  0.00000000e+00,  0.00000000e+00],\n",
              "         [ 0.00000000e+00,  0.00000000e+00,  0.00000000e+00],\n",
              "         ...,\n",
              "         [ 0.00000000e+00,  0.00000000e+00,  0.00000000e+00],\n",
              "         [ 0.00000000e+00,  0.00000000e+00,  0.00000000e+00],\n",
              "         [ 0.00000000e+00,  0.00000000e+00,  0.00000000e+00]],\n",
              "\n",
              "        [[ 0.00000000e+00,  0.00000000e+00,  0.00000000e+00],\n",
              "         [ 0.00000000e+00,  0.00000000e+00,  0.00000000e+00],\n",
              "         [ 0.00000000e+00,  0.00000000e+00,  0.00000000e+00],\n",
              "         ...,\n",
              "         [ 0.00000000e+00,  0.00000000e+00,  0.00000000e+00],\n",
              "         [ 0.00000000e+00,  0.00000000e+00,  0.00000000e+00],\n",
              "         [ 0.00000000e+00,  0.00000000e+00,  0.00000000e+00]],\n",
              "\n",
              "        ...,\n",
              "\n",
              "        [[ 0.00000000e+00,  0.00000000e+00,  0.00000000e+00],\n",
              "         [ 0.00000000e+00,  0.00000000e+00,  0.00000000e+00],\n",
              "         [ 0.00000000e+00,  0.00000000e+00,  0.00000000e+00],\n",
              "         ...,\n",
              "         [ 0.00000000e+00,  0.00000000e+00,  0.00000000e+00],\n",
              "         [ 0.00000000e+00,  0.00000000e+00,  0.00000000e+00],\n",
              "         [ 0.00000000e+00,  0.00000000e+00,  0.00000000e+00]],\n",
              "\n",
              "        [[ 0.00000000e+00,  0.00000000e+00,  0.00000000e+00],\n",
              "         [ 0.00000000e+00,  0.00000000e+00,  0.00000000e+00],\n",
              "         [ 0.00000000e+00,  0.00000000e+00,  0.00000000e+00],\n",
              "         ...,\n",
              "         [ 0.00000000e+00,  0.00000000e+00,  0.00000000e+00],\n",
              "         [ 0.00000000e+00,  0.00000000e+00,  0.00000000e+00],\n",
              "         [ 0.00000000e+00,  0.00000000e+00,  0.00000000e+00]],\n",
              "\n",
              "        [[ 0.00000000e+00,  0.00000000e+00,  0.00000000e+00],\n",
              "         [ 0.00000000e+00,  0.00000000e+00,  0.00000000e+00],\n",
              "         [ 0.00000000e+00,  0.00000000e+00,  0.00000000e+00],\n",
              "         ...,\n",
              "         [ 0.00000000e+00,  0.00000000e+00,  0.00000000e+00],\n",
              "         [ 0.00000000e+00,  0.00000000e+00,  0.00000000e+00],\n",
              "         [ 0.00000000e+00,  0.00000000e+00,  0.00000000e+00]]],\n",
              "\n",
              "\n",
              "       [[[ 0.00000000e+00,  0.00000000e+00,  0.00000000e+00],\n",
              "         [ 0.00000000e+00,  0.00000000e+00,  0.00000000e+00],\n",
              "         [ 0.00000000e+00,  0.00000000e+00,  0.00000000e+00],\n",
              "         ...,\n",
              "         [ 0.00000000e+00,  0.00000000e+00,  0.00000000e+00],\n",
              "         [ 0.00000000e+00,  0.00000000e+00,  0.00000000e+00],\n",
              "         [ 0.00000000e+00,  0.00000000e+00,  0.00000000e+00]],\n",
              "\n",
              "        [[ 0.00000000e+00,  0.00000000e+00,  0.00000000e+00],\n",
              "         [ 0.00000000e+00,  0.00000000e+00,  0.00000000e+00],\n",
              "         [ 0.00000000e+00,  0.00000000e+00,  0.00000000e+00],\n",
              "         ...,\n",
              "         [ 0.00000000e+00,  0.00000000e+00,  0.00000000e+00],\n",
              "         [ 0.00000000e+00,  0.00000000e+00,  0.00000000e+00],\n",
              "         [ 0.00000000e+00,  0.00000000e+00,  0.00000000e+00]],\n",
              "\n",
              "        [[ 0.00000000e+00,  0.00000000e+00,  0.00000000e+00],\n",
              "         [ 0.00000000e+00,  0.00000000e+00,  0.00000000e+00],\n",
              "         [ 0.00000000e+00,  0.00000000e+00,  0.00000000e+00],\n",
              "         ...,\n",
              "         [ 0.00000000e+00,  0.00000000e+00,  0.00000000e+00],\n",
              "         [ 0.00000000e+00,  0.00000000e+00,  0.00000000e+00],\n",
              "         [ 0.00000000e+00,  0.00000000e+00,  0.00000000e+00]],\n",
              "\n",
              "        ...,\n",
              "\n",
              "        [[ 0.00000000e+00,  0.00000000e+00,  0.00000000e+00],\n",
              "         [ 0.00000000e+00,  0.00000000e+00,  0.00000000e+00],\n",
              "         [ 0.00000000e+00,  0.00000000e+00,  0.00000000e+00],\n",
              "         ...,\n",
              "         [ 0.00000000e+00,  0.00000000e+00,  0.00000000e+00],\n",
              "         [ 0.00000000e+00,  0.00000000e+00,  0.00000000e+00],\n",
              "         [ 0.00000000e+00,  0.00000000e+00,  0.00000000e+00]],\n",
              "\n",
              "        [[ 0.00000000e+00,  0.00000000e+00,  0.00000000e+00],\n",
              "         [ 0.00000000e+00,  0.00000000e+00,  0.00000000e+00],\n",
              "         [ 0.00000000e+00,  0.00000000e+00,  0.00000000e+00],\n",
              "         ...,\n",
              "         [ 0.00000000e+00,  0.00000000e+00,  0.00000000e+00],\n",
              "         [ 0.00000000e+00,  0.00000000e+00,  0.00000000e+00],\n",
              "         [ 0.00000000e+00,  0.00000000e+00,  0.00000000e+00]],\n",
              "\n",
              "        [[ 0.00000000e+00,  0.00000000e+00,  0.00000000e+00],\n",
              "         [ 0.00000000e+00,  0.00000000e+00,  0.00000000e+00],\n",
              "         [ 0.00000000e+00,  0.00000000e+00,  0.00000000e+00],\n",
              "         ...,\n",
              "         [ 0.00000000e+00,  0.00000000e+00,  0.00000000e+00],\n",
              "         [ 0.00000000e+00,  0.00000000e+00,  0.00000000e+00],\n",
              "         [ 0.00000000e+00,  0.00000000e+00,  0.00000000e+00]]],\n",
              "\n",
              "\n",
              "       ...,\n",
              "\n",
              "\n",
              "       [[[ 0.00000000e+00,  0.00000000e+00,  0.00000000e+00],\n",
              "         [ 0.00000000e+00,  0.00000000e+00,  0.00000000e+00],\n",
              "         [ 0.00000000e+00,  0.00000000e+00,  0.00000000e+00],\n",
              "         ...,\n",
              "         [ 0.00000000e+00,  0.00000000e+00,  0.00000000e+00],\n",
              "         [ 0.00000000e+00,  0.00000000e+00,  0.00000000e+00],\n",
              "         [ 0.00000000e+00,  0.00000000e+00,  0.00000000e+00]],\n",
              "\n",
              "        [[ 0.00000000e+00,  0.00000000e+00,  0.00000000e+00],\n",
              "         [ 0.00000000e+00,  0.00000000e+00,  0.00000000e+00],\n",
              "         [ 0.00000000e+00,  0.00000000e+00,  0.00000000e+00],\n",
              "         ...,\n",
              "         [ 0.00000000e+00,  0.00000000e+00,  0.00000000e+00],\n",
              "         [ 0.00000000e+00,  0.00000000e+00,  0.00000000e+00],\n",
              "         [ 0.00000000e+00,  0.00000000e+00,  0.00000000e+00]],\n",
              "\n",
              "        [[ 0.00000000e+00,  0.00000000e+00,  0.00000000e+00],\n",
              "         [ 0.00000000e+00,  0.00000000e+00,  0.00000000e+00],\n",
              "         [ 0.00000000e+00,  0.00000000e+00,  0.00000000e+00],\n",
              "         ...,\n",
              "         [ 0.00000000e+00,  0.00000000e+00,  0.00000000e+00],\n",
              "         [ 0.00000000e+00,  0.00000000e+00,  0.00000000e+00],\n",
              "         [ 0.00000000e+00,  0.00000000e+00,  0.00000000e+00]],\n",
              "\n",
              "        ...,\n",
              "\n",
              "        [[ 0.00000000e+00,  0.00000000e+00,  0.00000000e+00],\n",
              "         [ 0.00000000e+00,  0.00000000e+00,  0.00000000e+00],\n",
              "         [ 0.00000000e+00,  0.00000000e+00,  0.00000000e+00],\n",
              "         ...,\n",
              "         [ 0.00000000e+00,  0.00000000e+00,  0.00000000e+00],\n",
              "         [ 0.00000000e+00,  0.00000000e+00,  0.00000000e+00],\n",
              "         [ 0.00000000e+00,  0.00000000e+00,  0.00000000e+00]],\n",
              "\n",
              "        [[ 0.00000000e+00,  0.00000000e+00,  0.00000000e+00],\n",
              "         [ 0.00000000e+00,  0.00000000e+00,  0.00000000e+00],\n",
              "         [ 0.00000000e+00,  0.00000000e+00,  0.00000000e+00],\n",
              "         ...,\n",
              "         [ 0.00000000e+00,  0.00000000e+00,  0.00000000e+00],\n",
              "         [ 0.00000000e+00,  0.00000000e+00,  0.00000000e+00],\n",
              "         [ 0.00000000e+00,  0.00000000e+00,  0.00000000e+00]],\n",
              "\n",
              "        [[ 0.00000000e+00,  0.00000000e+00,  0.00000000e+00],\n",
              "         [ 0.00000000e+00,  0.00000000e+00,  0.00000000e+00],\n",
              "         [ 0.00000000e+00,  0.00000000e+00,  0.00000000e+00],\n",
              "         ...,\n",
              "         [ 0.00000000e+00,  0.00000000e+00,  0.00000000e+00],\n",
              "         [ 0.00000000e+00,  0.00000000e+00,  0.00000000e+00],\n",
              "         [ 0.00000000e+00,  0.00000000e+00,  0.00000000e+00]]],\n",
              "\n",
              "\n",
              "       [[[ 0.00000000e+00,  0.00000000e+00,  0.00000000e+00],\n",
              "         [ 0.00000000e+00,  0.00000000e+00,  0.00000000e+00],\n",
              "         [ 0.00000000e+00,  0.00000000e+00,  0.00000000e+00],\n",
              "         ...,\n",
              "         [ 0.00000000e+00,  0.00000000e+00,  0.00000000e+00],\n",
              "         [ 0.00000000e+00,  0.00000000e+00,  0.00000000e+00],\n",
              "         [ 0.00000000e+00,  0.00000000e+00,  0.00000000e+00]],\n",
              "\n",
              "        [[ 0.00000000e+00,  0.00000000e+00,  0.00000000e+00],\n",
              "         [ 0.00000000e+00,  0.00000000e+00,  0.00000000e+00],\n",
              "         [ 0.00000000e+00,  0.00000000e+00,  0.00000000e+00],\n",
              "         ...,\n",
              "         [ 0.00000000e+00,  0.00000000e+00,  0.00000000e+00],\n",
              "         [ 0.00000000e+00,  0.00000000e+00,  0.00000000e+00],\n",
              "         [ 0.00000000e+00,  0.00000000e+00,  0.00000000e+00]],\n",
              "\n",
              "        [[ 0.00000000e+00,  0.00000000e+00,  0.00000000e+00],\n",
              "         [ 0.00000000e+00,  0.00000000e+00,  0.00000000e+00],\n",
              "         [ 0.00000000e+00,  0.00000000e+00,  0.00000000e+00],\n",
              "         ...,\n",
              "         [ 0.00000000e+00,  0.00000000e+00,  0.00000000e+00],\n",
              "         [ 0.00000000e+00,  0.00000000e+00,  0.00000000e+00],\n",
              "         [ 0.00000000e+00,  0.00000000e+00,  0.00000000e+00]],\n",
              "\n",
              "        ...,\n",
              "\n",
              "        [[ 0.00000000e+00,  0.00000000e+00,  0.00000000e+00],\n",
              "         [ 0.00000000e+00,  0.00000000e+00,  0.00000000e+00],\n",
              "         [ 0.00000000e+00,  0.00000000e+00,  0.00000000e+00],\n",
              "         ...,\n",
              "         [ 0.00000000e+00,  0.00000000e+00,  0.00000000e+00],\n",
              "         [ 0.00000000e+00,  0.00000000e+00,  0.00000000e+00],\n",
              "         [ 0.00000000e+00,  0.00000000e+00,  0.00000000e+00]],\n",
              "\n",
              "        [[ 0.00000000e+00,  0.00000000e+00,  0.00000000e+00],\n",
              "         [ 0.00000000e+00,  0.00000000e+00,  0.00000000e+00],\n",
              "         [ 0.00000000e+00,  0.00000000e+00,  0.00000000e+00],\n",
              "         ...,\n",
              "         [ 0.00000000e+00,  0.00000000e+00,  0.00000000e+00],\n",
              "         [ 0.00000000e+00,  0.00000000e+00,  0.00000000e+00],\n",
              "         [ 0.00000000e+00,  0.00000000e+00,  0.00000000e+00]],\n",
              "\n",
              "        [[ 0.00000000e+00,  0.00000000e+00,  0.00000000e+00],\n",
              "         [ 0.00000000e+00,  0.00000000e+00,  0.00000000e+00],\n",
              "         [ 0.00000000e+00,  0.00000000e+00,  0.00000000e+00],\n",
              "         ...,\n",
              "         [ 0.00000000e+00,  0.00000000e+00,  0.00000000e+00],\n",
              "         [ 0.00000000e+00,  0.00000000e+00,  0.00000000e+00],\n",
              "         [ 0.00000000e+00,  0.00000000e+00,  0.00000000e+00]]],\n",
              "\n",
              "\n",
              "       [[[ 0.00000000e+00,  0.00000000e+00,  0.00000000e+00],\n",
              "         [ 0.00000000e+00,  0.00000000e+00,  0.00000000e+00],\n",
              "         [ 0.00000000e+00,  0.00000000e+00,  0.00000000e+00],\n",
              "         ...,\n",
              "         [ 0.00000000e+00,  0.00000000e+00,  0.00000000e+00],\n",
              "         [ 0.00000000e+00,  0.00000000e+00,  0.00000000e+00],\n",
              "         [ 0.00000000e+00,  0.00000000e+00,  0.00000000e+00]],\n",
              "\n",
              "        [[ 0.00000000e+00,  0.00000000e+00,  0.00000000e+00],\n",
              "         [ 0.00000000e+00,  0.00000000e+00,  0.00000000e+00],\n",
              "         [ 0.00000000e+00,  0.00000000e+00,  0.00000000e+00],\n",
              "         ...,\n",
              "         [ 0.00000000e+00,  0.00000000e+00,  0.00000000e+00],\n",
              "         [ 0.00000000e+00,  0.00000000e+00,  0.00000000e+00],\n",
              "         [ 0.00000000e+00,  0.00000000e+00,  0.00000000e+00]],\n",
              "\n",
              "        [[ 0.00000000e+00,  0.00000000e+00,  0.00000000e+00],\n",
              "         [ 0.00000000e+00,  0.00000000e+00,  0.00000000e+00],\n",
              "         [ 0.00000000e+00,  0.00000000e+00,  0.00000000e+00],\n",
              "         ...,\n",
              "         [ 0.00000000e+00,  0.00000000e+00,  0.00000000e+00],\n",
              "         [ 0.00000000e+00,  0.00000000e+00,  0.00000000e+00],\n",
              "         [ 0.00000000e+00,  0.00000000e+00,  0.00000000e+00]],\n",
              "\n",
              "        ...,\n",
              "\n",
              "        [[ 0.00000000e+00,  0.00000000e+00,  0.00000000e+00],\n",
              "         [ 0.00000000e+00,  0.00000000e+00,  0.00000000e+00],\n",
              "         [ 0.00000000e+00,  0.00000000e+00,  0.00000000e+00],\n",
              "         ...,\n",
              "         [ 0.00000000e+00,  0.00000000e+00,  0.00000000e+00],\n",
              "         [ 0.00000000e+00,  0.00000000e+00,  0.00000000e+00],\n",
              "         [ 0.00000000e+00,  0.00000000e+00,  0.00000000e+00]],\n",
              "\n",
              "        [[ 0.00000000e+00,  0.00000000e+00,  0.00000000e+00],\n",
              "         [ 0.00000000e+00,  0.00000000e+00,  0.00000000e+00],\n",
              "         [ 0.00000000e+00,  0.00000000e+00,  0.00000000e+00],\n",
              "         ...,\n",
              "         [ 0.00000000e+00,  0.00000000e+00,  0.00000000e+00],\n",
              "         [ 0.00000000e+00,  0.00000000e+00,  0.00000000e+00],\n",
              "         [ 0.00000000e+00,  0.00000000e+00,  0.00000000e+00]],\n",
              "\n",
              "        [[ 0.00000000e+00,  0.00000000e+00,  0.00000000e+00],\n",
              "         [ 0.00000000e+00,  0.00000000e+00,  0.00000000e+00],\n",
              "         [ 0.00000000e+00,  0.00000000e+00,  0.00000000e+00],\n",
              "         ...,\n",
              "         [ 0.00000000e+00,  0.00000000e+00,  0.00000000e+00],\n",
              "         [ 0.00000000e+00,  0.00000000e+00,  0.00000000e+00],\n",
              "         [ 0.00000000e+00,  0.00000000e+00,  0.00000000e+00]]]])"
            ]
          },
          "metadata": {},
          "execution_count": 40
        }
      ]
    },
    {
      "cell_type": "code",
      "source": [
        "from pytube import YouTube\n",
        "yt = YouTube('https://www.youtube.com/watch?v=_NULEKEArxw')"
      ],
      "metadata": {
        "id": "3DuL26OlvS8H"
      },
      "execution_count": null,
      "outputs": []
    },
    {
      "cell_type": "code",
      "source": [
        "yt.streams.filter(file_extension='mp4')"
      ],
      "metadata": {
        "colab": {
          "base_uri": "https://localhost:8080/"
        },
        "id": "_eHicz8xReCS",
        "outputId": "ba2c4cfe-68a2-4ad5-9585-0ab7ddba07cc"
      },
      "execution_count": null,
      "outputs": [
        {
          "output_type": "execute_result",
          "data": {
            "text/plain": [
              "[<Stream: itag=\"18\" mime_type=\"video/mp4\" res=\"360p\" fps=\"30fps\" vcodec=\"avc1.42001E\" acodec=\"mp4a.40.2\" progressive=\"True\" type=\"video\">, <Stream: itag=\"22\" mime_type=\"video/mp4\" res=\"720p\" fps=\"30fps\" vcodec=\"avc1.64001F\" acodec=\"mp4a.40.2\" progressive=\"True\" type=\"video\">, <Stream: itag=\"137\" mime_type=\"video/mp4\" res=\"1080p\" fps=\"30fps\" vcodec=\"avc1.640028\" progressive=\"False\" type=\"video\">, <Stream: itag=\"136\" mime_type=\"video/mp4\" res=\"720p\" fps=\"30fps\" vcodec=\"avc1.4d401f\" progressive=\"False\" type=\"video\">, <Stream: itag=\"135\" mime_type=\"video/mp4\" res=\"480p\" fps=\"30fps\" vcodec=\"avc1.4d401f\" progressive=\"False\" type=\"video\">, <Stream: itag=\"134\" mime_type=\"video/mp4\" res=\"360p\" fps=\"30fps\" vcodec=\"avc1.4d401e\" progressive=\"False\" type=\"video\">, <Stream: itag=\"133\" mime_type=\"video/mp4\" res=\"240p\" fps=\"30fps\" vcodec=\"avc1.4d4015\" progressive=\"False\" type=\"video\">, <Stream: itag=\"160\" mime_type=\"video/mp4\" res=\"144p\" fps=\"30fps\" vcodec=\"avc1.4d400c\" progressive=\"False\" type=\"video\">, <Stream: itag=\"139\" mime_type=\"audio/mp4\" abr=\"48kbps\" acodec=\"mp4a.40.5\" progressive=\"False\" type=\"audio\">, <Stream: itag=\"140\" mime_type=\"audio/mp4\" abr=\"128kbps\" acodec=\"mp4a.40.2\" progressive=\"False\" type=\"audio\">]"
            ]
          },
          "metadata": {},
          "execution_count": 6
        }
      ]
    },
    {
      "cell_type": "code",
      "source": [
        "stream = yt.streams.get_by_itag(22)"
      ],
      "metadata": {
        "id": "69T3S1UiDJOm"
      },
      "execution_count": null,
      "outputs": []
    },
    {
      "cell_type": "code",
      "source": [
        "stream.download()"
      ],
      "metadata": {
        "colab": {
          "base_uri": "https://localhost:8080/",
          "height": 53
        },
        "id": "C5JSlffzDMoY",
        "outputId": "45361931-e23b-4991-e8d1-06d6e403d830"
      },
      "execution_count": null,
      "outputs": [
        {
          "output_type": "execute_result",
          "data": {
            "text/plain": [
              "'/content/YONEX French Open 2023  Lee Zii Jia (MAS) vs Weng Hong Yang (CHN)  R32.mp4'"
            ],
            "application/vnd.google.colaboratory.intrinsic+json": {
              "type": "string"
            }
          },
          "metadata": {},
          "execution_count": 8
        }
      ]
    },
    {
      "cell_type": "code",
      "source": [
        "num = 0\n",
        "vidcap = cv2.VideoCapture('vid2.mp4')\n",
        "def getFrame(sec):\n",
        "    vidcap.set(cv2.CAP_PROP_POS_MSEC,sec*1000)\n",
        "    hasFrames,image = vidcap.read()\n",
        "    if hasFrames:\n",
        "        global num\n",
        "        cv2.imwrite(\"26-\" + str(num)+\".jpeg\", image)\n",
        "        num = num + 1\n",
        "    return hasFrames\n",
        "sec = 2992.3\n",
        "frameRate = 0.1\n",
        "success = getFrame(sec)\n",
        "while (sec <= 2994):\n",
        "    sec = sec + frameRate\n",
        "    sec = round(sec, 2)\n",
        "    success = getFrame(sec)"
      ],
      "metadata": {
        "id": "B6_A9GN1DPY4"
      },
      "execution_count": null,
      "outputs": []
    },
    {
      "cell_type": "code",
      "source": [
        "vidcap = cv2.VideoCapture('vid2.mp4')\n",
        "vidcap.set(cv2.CAP_PROP_POS_MSEC, 2994000)\n",
        "hasFrames,image = vidcap.read()\n",
        "if hasFrames:\n",
        "    cv2.imwrite(\"test.jpeg\", image)\n"
      ],
      "metadata": {
        "id": "QhqRX7UrHoIB"
      },
      "execution_count": null,
      "outputs": []
    },
    {
      "cell_type": "code",
      "source": [
        "import tensorflow as tf\n",
        "import torch\n",
        "import torch.nn as nn\n",
        "import torchvision\n",
        "import torchvision.transforms as transforms\n",
        "\n",
        "labels = np.ones(25)\n",
        "\n",
        "pose_estimation_cords = pose_estimation_cords.reshape((25, 23, 48))\n",
        "\n",
        "input_size = 48\n",
        "learning_rate = 0.001\n",
        "sequence_length = 23\n",
        "hidden_size = 128\n",
        "num_layers = 3\n",
        "num_classes = 2\n",
        "\n",
        "\n",
        "class RNN(nn.Module):\n",
        "    def __init__(self, input_size, hidden_size, num_layers, num_classes):\n",
        "        super(RNN, self).__init__()\n",
        "        self.num_layers = num_layers\n",
        "        self.hidden_size = hidden_size\n",
        "        self.rnn = nn.RNN(input_size, hidden_size, num_layers, batch_first=True)\n",
        "        # -> x needs to be: (batch_size, seq, input_size)\n",
        "\n",
        "        # or:\n",
        "        #self.gru = nn.GRU(input_size, hidden_size, num_layers, batch_first=True)\n",
        "        #self.lstm = nn.LSTM(input_size, hidden_size, num_layers, batch_first=True)\n",
        "        self.fc = nn.Linear(hidden_size, num_classes)\n",
        "\n",
        "    def forward(self, x):\n",
        "        # Set initial hidden states (and cell states for LSTM)\n",
        "        h0 = torch.zeros(self.num_layers, x.size(0), self.hidden_size).to('cpu')\n",
        "        #c0 = torch.zeros(self.num_layers, x.size(0), self.hidden_size).to(device)\n",
        "\n",
        "        # x: (n, 28, 28), h0: (2, n, 128)\n",
        "\n",
        "        # Forward propagate RNN\n",
        "        out, _ = self.rnn(x, h0)\n",
        "        # or:\n",
        "        #out, _ = self.lstm(x, (h0,c0))\n",
        "\n",
        "        # out: tensor of shape (batch_size, seq_length, hidden_size)\n",
        "        # out: (n, 28, 128)\n",
        "\n",
        "        # Decode the hidden state of the last time step\n",
        "        out = out[:, -1, :]\n",
        "        # out: (n, 128)\n",
        "\n",
        "        out = self.fc(out)\n",
        "        # out: (n, 10)\n",
        "        return out\n",
        "\n",
        "model = RNN(input_size, hidden_size, num_layers, num_classes).to('cpu')\n",
        "\n",
        "criterion = nn.CrossEntropyLoss()\n",
        "optimizer = torch.optim.Adam(model.parameters(), lr = learning_rate)\n",
        "\n",
        "for epoch in range(10):\n",
        "    # origin shape: [N, 1, 28, 28]\n",
        "    # resized: [N, 28, 28]\n",
        "    pose_estimation_cords = torch.tensor(pose_estimation_cords).float()\n",
        "    pose_estimation_cords = pose_estimation_cords.to('cpu')\n",
        "    labels = torch.tensor(labels).long().to('cpu')\n",
        "\n",
        "    # Forward pass\n",
        "    outputs = model(pose_estimation_cords)\n",
        "    loss = criterion(outputs, labels)\n",
        "\n",
        "    # Backward and optimize\n",
        "    optimizer.zero_grad()\n",
        "    loss.backward()\n",
        "    optimizer.step()\n",
        "    print(loss.item())\n"
      ],
      "metadata": {
        "id": "9RndNmEkKArg",
        "colab": {
          "base_uri": "https://localhost:8080/"
        },
        "outputId": "260532a5-4994-4a10-c432-2a3c4831f135"
      },
      "execution_count": null,
      "outputs": [
        {
          "output_type": "stream",
          "name": "stdout",
          "text": [
            "hello\n",
            "hello\n",
            "0.7584629654884338\n",
            "hello\n",
            "0.5391242504119873\n",
            "hello\n",
            "0.33807799220085144\n",
            "hello\n",
            "0.1674979329109192\n",
            "hello\n"
          ]
        },
        {
          "output_type": "stream",
          "name": "stderr",
          "text": [
            "<ipython-input-47-23e6c6e6b00d>:64: UserWarning: To copy construct from a tensor, it is recommended to use sourceTensor.clone().detach() or sourceTensor.clone().detach().requires_grad_(True), rather than torch.tensor(sourceTensor).\n",
            "  pose_estimation_cords = torch.tensor(pose_estimation_cords).float()\n",
            "<ipython-input-47-23e6c6e6b00d>:66: UserWarning: To copy construct from a tensor, it is recommended to use sourceTensor.clone().detach() or sourceTensor.clone().detach().requires_grad_(True), rather than torch.tensor(sourceTensor).\n",
            "  labels = torch.tensor(labels).long().to('cpu')\n"
          ]
        },
        {
          "output_type": "stream",
          "name": "stdout",
          "text": [
            "0.06647498160600662\n",
            "hello\n",
            "0.025904398411512375\n",
            "hello\n",
            "0.011613591574132442\n",
            "hello\n",
            "0.006117052864283323\n",
            "hello\n",
            "0.0036936593241989613\n",
            "hello\n",
            "0.0024720735382288694\n"
          ]
        }
      ]
    },
    {
      "cell_type": "code",
      "source": [
        "images = np.zeros((1, 23, 16, 3))"
      ],
      "metadata": {
        "id": "r42IDH9_0IRB"
      },
      "execution_count": null,
      "outputs": []
    },
    {
      "cell_type": "code",
      "source": [
        "with torch.no_grad():\n",
        "    for num2 in range(23):\n",
        "      IMAGE_FILES = [\"drive/MyDrive/BadmintonData/Swing26/ 26-\" + str(num2) + \".jpeg\"]\n",
        "      if not os.path.isfile(IMAGE_FILES[0]):\n",
        "          continue\n",
        "      BG_COLOR = (192, 192, 192) # gray\n",
        "      with mp_pose.Pose(\n",
        "          static_image_mode=True,\n",
        "          model_complexity=2,\n",
        "          enable_segmentation=True,\n",
        "          min_detection_confidence=0.5) as pose:\n",
        "        for idx, file in enumerate(IMAGE_FILES):\n",
        "          image = cv2.imread(file)\n",
        "          cv2.imwrite(\"Cropped Image.jpeg\", image)\n",
        "          image_height, image_width, _ = image.shape\n",
        "          print(image_height, image_width)\n",
        "          # Convert the BGR image to RGB before processing.\n",
        "          results = pose.process(cv2.cvtColor(image, cv2.COLOR_BGR2RGB))\n",
        "\n",
        "          if not results.pose_landmarks:\n",
        "            continue\n",
        "          #pose_estimation_cords\n",
        "          landmarks = results.pose_landmarks.landmark\n",
        "          useful_landmarks = landmarks[11:17] + landmarks[23:]\n",
        "          for k in range(16):\n",
        "            images[0][num2][k][0] = useful_landmarks[k].x * image_width\n",
        "            images[0][num2][k][1] = useful_landmarks[k].y * image_height\n",
        "            images[0][num2][k][2] = useful_landmarks[k].z"
      ],
      "metadata": {
        "id": "IgE-HcrYzoOf"
      },
      "execution_count": null,
      "outputs": []
    },
    {
      "cell_type": "code",
      "source": [
        "images = images.reshape(1, 23, 48)"
      ],
      "metadata": {
        "id": "qNr0FoNS0tn3"
      },
      "execution_count": null,
      "outputs": []
    },
    {
      "cell_type": "code",
      "source": [
        "with torch.no_grad():\n",
        "    images = torch.tensor(images).float()\n",
        "    images = images.to('cpu')\n",
        "    outputs = model(images)\n",
        "    # max returns (value ,index)\n",
        "    _, predicted = torch.max(outputs.data, 1)\n",
        "    print(predicted)\n"
      ],
      "metadata": {
        "colab": {
          "base_uri": "https://localhost:8080/"
        },
        "id": "UrMyFdnr0Zva",
        "outputId": "7dd4b0ad-88b9-4471-93c6-91e17a7e3bde"
      },
      "execution_count": null,
      "outputs": [
        {
          "output_type": "stream",
          "name": "stdout",
          "text": [
            "tensor([1])\n"
          ]
        }
      ]
    }
  ]
}